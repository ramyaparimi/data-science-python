{
 "cells": [
  {
   "cell_type": "code",
   "execution_count": 2,
   "metadata": {},
   "outputs": [],
   "source": [
    "% matplotlib inline\n",
    "import pandas as pd\n",
    "import matplotlib.pyplot as plt\n",
    "\n",
    "\n"
   ]
  },
  {
   "cell_type": "code",
   "execution_count": 42,
   "metadata": {},
   "outputs": [
    {
     "data": {
      "text/plain": [
       "(206291, 22)"
      ]
     },
     "execution_count": 42,
     "metadata": {},
     "output_type": "execute_result"
    }
   ],
   "source": [
    "complaints = pd.read_csv('./311-service-requests-abandoned-vehicles.csv')\n",
    "complaints.dropna()\n",
    "complaints.shape"
   ]
  },
  {
   "cell_type": "code",
   "execution_count": 44,
   "metadata": {},
   "outputs": [
    {
     "data": {
      "text/html": [
       "<div>\n",
       "<style scoped>\n",
       "    .dataframe tbody tr th:only-of-type {\n",
       "        vertical-align: middle;\n",
       "    }\n",
       "\n",
       "    .dataframe tbody tr th {\n",
       "        vertical-align: top;\n",
       "    }\n",
       "\n",
       "    .dataframe thead th {\n",
       "        text-align: right;\n",
       "    }\n",
       "</style>\n",
       "<table border=\"1\" class=\"dataframe\">\n",
       "  <thead>\n",
       "    <tr style=\"text-align: right;\">\n",
       "      <th></th>\n",
       "      <th>Type of Service Request</th>\n",
       "      <th>Vehicle Make/Model</th>\n",
       "      <th>Vehicle Color</th>\n",
       "      <th>ZIP Code</th>\n",
       "    </tr>\n",
       "  </thead>\n",
       "  <tbody>\n",
       "    <tr>\n",
       "      <th>0</th>\n",
       "      <td>Abandoned Vehicle Complaint</td>\n",
       "      <td>Jeep/Cherokee</td>\n",
       "      <td>Red</td>\n",
       "      <td>60646.0</td>\n",
       "    </tr>\n",
       "    <tr>\n",
       "      <th>1</th>\n",
       "      <td>Abandoned Vehicle Complaint</td>\n",
       "      <td>Isuzu</td>\n",
       "      <td>Red</td>\n",
       "      <td>60646.0</td>\n",
       "    </tr>\n",
       "    <tr>\n",
       "      <th>2</th>\n",
       "      <td>Abandoned Vehicle Complaint</td>\n",
       "      <td>Toyota</td>\n",
       "      <td>Silver</td>\n",
       "      <td>60639.0</td>\n",
       "    </tr>\n",
       "    <tr>\n",
       "      <th>3</th>\n",
       "      <td>Abandoned Vehicle Complaint</td>\n",
       "      <td>Jeep/Cherokee</td>\n",
       "      <td>Gold</td>\n",
       "      <td>60613.0</td>\n",
       "    </tr>\n",
       "    <tr>\n",
       "      <th>4</th>\n",
       "      <td>Abandoned Vehicle Complaint</td>\n",
       "      <td>NaN</td>\n",
       "      <td>Gold</td>\n",
       "      <td>60613.0</td>\n",
       "    </tr>\n",
       "  </tbody>\n",
       "</table>\n",
       "</div>"
      ],
      "text/plain": [
       "       Type of Service Request Vehicle Make/Model Vehicle Color  ZIP Code\n",
       "0  Abandoned Vehicle Complaint      Jeep/Cherokee           Red   60646.0\n",
       "1  Abandoned Vehicle Complaint              Isuzu           Red   60646.0\n",
       "2  Abandoned Vehicle Complaint             Toyota        Silver   60639.0\n",
       "3  Abandoned Vehicle Complaint      Jeep/Cherokee          Gold   60613.0\n",
       "4  Abandoned Vehicle Complaint                NaN          Gold   60613.0"
      ]
     },
     "execution_count": 44,
     "metadata": {},
     "output_type": "execute_result"
    }
   ],
   "source": [
    "complaints[['Type of Service Request','Vehicle Make/Model','Vehicle Color','ZIP Code']].head()\n"
   ]
  },
  {
   "cell_type": "code",
   "execution_count": 45,
   "metadata": {},
   "outputs": [
    {
     "data": {
      "text/plain": [
       "Chevrolet    29603\n",
       "Ford         26986\n",
       "Toyota       12054\n",
       "Honda        11978\n",
       "Dodge        11945\n",
       "Name: Vehicle Make/Model, dtype: int64"
      ]
     },
     "execution_count": 45,
     "metadata": {},
     "output_type": "execute_result"
    }
   ],
   "source": [
    "complaints_counts = complaints['Vehicle Make/Model'].value_counts()\n",
    "complaints_counts.head()"
   ]
  },
  {
   "cell_type": "code",
   "execution_count": 46,
   "metadata": {},
   "outputs": [
    {
     "data": {
      "text/plain": [
       "Text(0.5,1,'Chicago Service Request-Abandoned Vehicle ')"
      ]
     },
     "execution_count": 46,
     "metadata": {},
     "output_type": "execute_result"
    },
    {
     "data": {
      "image/png": "[encoded data removed]",
      "text/plain": [
       "<Figure size 432x288 with 1 Axes>"
      ]
     },
     "metadata": {},
     "output_type": "display_data"
    }
   ],
   "source": [
    "complaints_counts[:10].plot(kind='bar')\n",
    "plt.xlabel('Vehicle Make/Model')\n",
    "plt.ylabel('# of Complaints')\n",
    "plt.title('Chicago Service Request-Abandoned Vehicle ')"
   ]
  }
 ],
 "metadata": {
  "kernelspec": {
   "display_name": "Python 3",
   "language": "python",
   "name": "python3"
  },
  "language_info": {
   "codemirror_mode": {
    "name": "ipython",
    "version": 3
   },
   "file_extension": ".py",
   "mimetype": "text/x-python",
   "name": "python",
   "nbconvert_exporter": "python",
   "pygments_lexer": "ipython3",
   "version": "3.6.5"
  }
 },
 "nbformat": 4,
 "nbformat_minor": 2
}
